{
  "nbformat": 4,
  "nbformat_minor": 0,
  "metadata": {
    "colab": {
      "provenance": []
    },
    "kernelspec": {
      "display_name": "Python 3",
      "name": "python3"
    }
  },
  "cells": [
    {
      "cell_type": "code",
      "metadata": {
        "id": "Jo-f74N5dOBD"
      },
      "source": [
        "import re\n",
        "import random\n",
        "\n",
        "from nltk.chat.util import Chat, reflections\n",
        "\n",
        "class FociChatbot(Chat):\n",
        "    def __init__(self):\n",
        "        super().__init__([], reflections)\n",
        "        p = self._pairs\n",
        "\n",
        "    def add(self, input, output):\n",
        "        if isinstance(output, str):\n",
        "            o = [output]\n",
        "        else:\n",
        "            o = output\n",
        "        self._pairs.append((re.compile(input, re.IGNORECASE), o))\n",
        "\n",
        "\n",
        "def add_response(input, output):\n",
        "    f.add(input, output)\n",
        "\n",
        "def converse():\n",
        "    f.converse()\n",
        "\n",
        "def respond(input):\n",
        "    print(f.respond(input))\n",
        "\n",
        "def reset():\n",
        "    global f\n",
        "    f = FociChatbot()\n",
        "\n",
        "\n",
        "f = FociChatbot()"
      ],
      "execution_count": 1,
      "outputs": []
    },
    {
      "cell_type": "code",
      "metadata": {
        "id": "m-CAX--ieffs"
      },
      "source": [
        "add_response('Hi', 'Hello!')"
      ],
      "execution_count": 2,
      "outputs": []
    },
    {
      "cell_type": "code",
      "metadata": {
        "colab": {
          "base_uri": "https://localhost:8080/"
        },
        "id": "Gm5pVyg_CiuX",
        "outputId": "a09078c1-aff5-446f-aa1d-c2126735fdd7"
      },
      "source": [
        "converse()"
      ],
      "execution_count": null,
      "outputs": [
        {
          "output_type": "stream",
          "text": [
            ">Hi\n",
            "Hello!\n",
            ">Hi\n",
            "Hello!\n",
            ">quit\n",
            "None\n"
          ],
          "name": "stdout"
        }
      ]
    },
    {
      "cell_type": "code",
      "metadata": {
        "id": "K8ThdFq7Qx7R"
      },
      "source": [
        "add_response('What is your favourite colour', 'Red')\n",
        "add_response('How old are you', 'I am brand new!')\n",
        "add_response('Are you a person or a bot', \"That's for me to know and you to find out\")"
      ],
      "execution_count": 7,
      "outputs": []
    },
    {
      "cell_type": "code",
      "metadata": {
        "id": "ij-6g-LXTE9P",
        "colab": {
          "base_uri": "https://localhost:8080/"
        },
        "outputId": "69ec1fc1-bbda-40b0-8083-0ba5cb1bb0d4"
      },
      "source": [
        "converse()"
      ],
      "execution_count": 8,
      "outputs": [
        {
          "output_type": "stream",
          "name": "stdout",
          "text": [
            ">What is your favourite colour\n",
            "Red\n",
            ">Are you a person or a bot\n",
            "That's for me to know and you to find out\n",
            ">How old are you\n",
            "I am brand new!\n",
            ">quit\n",
            "None\n"
          ]
        }
      ]
    },
    {
      "cell_type": "code",
      "metadata": {
        "id": "0StGY35XtLwK"
      },
      "source": [
        "add_response('I love (.*)', 'What do you love about it?')"
      ],
      "execution_count": 4,
      "outputs": []
    },
    {
      "cell_type": "code",
      "metadata": {
        "id": "frDhhLeltcaO",
        "colab": {
          "base_uri": "https://localhost:8080/"
        },
        "outputId": "c77ac9ef-1640-42cf-baa7-25f216434bae"
      },
      "source": [
        "converse()"
      ],
      "execution_count": 5,
      "outputs": [
        {
          "output_type": "stream",
          "name": "stdout",
          "text": [
            ">hi\n",
            "Hello!\n",
            ">i love cat\n",
            "What do you love about it?\n",
            ">quit\n",
            "None\n"
          ]
        }
      ]
    },
    {
      "cell_type": "code",
      "metadata": {
        "id": "f9-R6rMjuqqk",
        "colab": {
          "base_uri": "https://localhost:8080/"
        },
        "outputId": "1e63660a-88dc-4a9c-c1bc-f9fa79c0eaf7"
      },
      "source": [
        "respond('I love car')"
      ],
      "execution_count": 6,
      "outputs": [
        {
          "output_type": "stream",
          "name": "stdout",
          "text": [
            "What do you love about it?\n"
          ]
        }
      ]
    },
    {
      "cell_type": "code",
      "metadata": {
        "id": "WswEtdJUNfpH"
      },
      "source": [
        "add_response('I forget (.*)', 'Can you think of why you might forget %1 ?')"
      ],
      "execution_count": 9,
      "outputs": []
    },
    {
      "cell_type": "code",
      "metadata": {
        "id": "gn61oUrjdKAa",
        "colab": {
          "base_uri": "https://localhost:8080/"
        },
        "outputId": "d3a236bf-32a6-43c5-df21-b34c16516e1a"
      },
      "source": [
        "converse()"
      ],
      "execution_count": 10,
      "outputs": [
        {
          "output_type": "stream",
          "name": "stdout",
          "text": [
            ">I forget myself\n",
            "Can you think of why you might forget myself ?\n",
            ">quit\n",
            "None\n"
          ]
        }
      ]
    },
    {
      "cell_type": "code",
      "metadata": {
        "id": "FhEnrJTa-aik"
      },
      "source": [
        "add_response('I like to (.*)', \"I can't %1 at all.\")\n",
        "add_response('I like (.*)', 'Yeah, %1 is my favourite thing.')"
      ],
      "execution_count": 11,
      "outputs": []
    },
    {
      "cell_type": "code",
      "metadata": {
        "id": "uZwVQhDWlqBc",
        "colab": {
          "base_uri": "https://localhost:8080/"
        },
        "outputId": "f4542a59-29f8-43ca-9d99-2566e1aaafe2"
      },
      "source": [
        "converse()\n"
      ],
      "execution_count": 12,
      "outputs": [
        {
          "output_type": "stream",
          "name": "stdout",
          "text": [
            ">I like to play game\n",
            "I can't play game at all.\n",
            ">i like car\n",
            "Yeah, car is my favourite thing.\n",
            ">quit\n",
            "None\n"
          ]
        }
      ]
    },
    {
      "cell_type": "code",
      "metadata": {
        "id": "E9bfrfUnlo6X"
      },
      "source": [
        "reset()"
      ],
      "execution_count": null,
      "outputs": []
    }
  ]
}